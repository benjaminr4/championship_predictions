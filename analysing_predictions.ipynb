{
 "cells": [
  {
   "cell_type": "code",
   "execution_count": 18,
   "id": "6e10b56a-01e2-4021-9d62-741f2f3cf9bf",
   "metadata": {},
   "outputs": [],
   "source": [
    "import pandas as pd\n",
    "import numpy as np\n",
    "\n",
    "import matplotlib.pyplot as plt\n",
    "import seaborn as sns\n"
   ]
  },
  {
   "cell_type": "code",
   "execution_count": 2,
   "id": "4ee76c85-0193-4c35-92b4-1ba19bf6cd80",
   "metadata": {},
   "outputs": [],
   "source": [
    "myresults=pd.read_pickle('data/match_predictions.pkl')"
   ]
  },
  {
   "cell_type": "code",
   "execution_count": 7,
   "id": "a6b2d0b4-2d57-4b31-8274-b73b069d1c39",
   "metadata": {},
   "outputs": [],
   "source": [
    "myresults=myresults.reset_index(drop=True)"
   ]
  },
  {
   "cell_type": "code",
   "execution_count": 8,
   "id": "c4c5023d-c25b-4b1a-a96a-89886cdc74cc",
   "metadata": {},
   "outputs": [
    {
     "data": {
      "text/html": [
       "<div>\n",
       "<style scoped>\n",
       "    .dataframe tbody tr th:only-of-type {\n",
       "        vertical-align: middle;\n",
       "    }\n",
       "\n",
       "    .dataframe tbody tr th {\n",
       "        vertical-align: top;\n",
       "    }\n",
       "\n",
       "    .dataframe thead th {\n",
       "        text-align: right;\n",
       "    }\n",
       "</style>\n",
       "<table border=\"1\" class=\"dataframe\">\n",
       "  <thead>\n",
       "    <tr style=\"text-align: right;\">\n",
       "      <th></th>\n",
       "      <th>Date</th>\n",
       "      <th>HomeTeam</th>\n",
       "      <th>AwayTeam</th>\n",
       "      <th>FTR</th>\n",
       "      <th>season</th>\n",
       "      <th>B365H</th>\n",
       "      <th>B365D</th>\n",
       "      <th>B365A</th>\n",
       "      <th>MaxH</th>\n",
       "      <th>AvgH</th>\n",
       "      <th>MaxD</th>\n",
       "      <th>AvgD</th>\n",
       "      <th>MaxA</th>\n",
       "      <th>AvgA</th>\n",
       "      <th>predictions</th>\n",
       "      <th>proba_H</th>\n",
       "      <th>proba_D</th>\n",
       "      <th>proba_A</th>\n",
       "    </tr>\n",
       "  </thead>\n",
       "  <tbody>\n",
       "    <tr>\n",
       "      <th>0</th>\n",
       "      <td>2023-08-04</td>\n",
       "      <td>Sheffield Weds</td>\n",
       "      <td>Southampton</td>\n",
       "      <td>A</td>\n",
       "      <td>season23</td>\n",
       "      <td>3.10</td>\n",
       "      <td>3.4</td>\n",
       "      <td>2.30</td>\n",
       "      <td>3.31</td>\n",
       "      <td>3.14</td>\n",
       "      <td>3.47</td>\n",
       "      <td>3.38</td>\n",
       "      <td>2.35</td>\n",
       "      <td>2.28</td>\n",
       "      <td>A</td>\n",
       "      <td>0.382851</td>\n",
       "      <td>0.228971</td>\n",
       "      <td>0.388178</td>\n",
       "    </tr>\n",
       "    <tr>\n",
       "      <th>1</th>\n",
       "      <td>2023-08-05</td>\n",
       "      <td>Blackburn</td>\n",
       "      <td>West Brom</td>\n",
       "      <td>H</td>\n",
       "      <td>season23</td>\n",
       "      <td>2.75</td>\n",
       "      <td>3.3</td>\n",
       "      <td>2.60</td>\n",
       "      <td>2.92</td>\n",
       "      <td>2.78</td>\n",
       "      <td>3.30</td>\n",
       "      <td>3.21</td>\n",
       "      <td>2.72</td>\n",
       "      <td>2.62</td>\n",
       "      <td>H</td>\n",
       "      <td>0.370586</td>\n",
       "      <td>0.286758</td>\n",
       "      <td>0.342655</td>\n",
       "    </tr>\n",
       "    <tr>\n",
       "      <th>2</th>\n",
       "      <td>2023-08-05</td>\n",
       "      <td>Bristol City</td>\n",
       "      <td>Preston</td>\n",
       "      <td>D</td>\n",
       "      <td>season23</td>\n",
       "      <td>2.05</td>\n",
       "      <td>3.5</td>\n",
       "      <td>3.60</td>\n",
       "      <td>2.15</td>\n",
       "      <td>2.08</td>\n",
       "      <td>3.50</td>\n",
       "      <td>3.39</td>\n",
       "      <td>3.72</td>\n",
       "      <td>3.63</td>\n",
       "      <td>H</td>\n",
       "      <td>0.459704</td>\n",
       "      <td>0.287815</td>\n",
       "      <td>0.252481</td>\n",
       "    </tr>\n",
       "    <tr>\n",
       "      <th>3</th>\n",
       "      <td>2023-08-05</td>\n",
       "      <td>Middlesbrough</td>\n",
       "      <td>Millwall</td>\n",
       "      <td>A</td>\n",
       "      <td>season23</td>\n",
       "      <td>1.91</td>\n",
       "      <td>3.3</td>\n",
       "      <td>4.33</td>\n",
       "      <td>2.05</td>\n",
       "      <td>1.95</td>\n",
       "      <td>3.60</td>\n",
       "      <td>3.47</td>\n",
       "      <td>4.33</td>\n",
       "      <td>3.97</td>\n",
       "      <td>H</td>\n",
       "      <td>0.466858</td>\n",
       "      <td>0.316061</td>\n",
       "      <td>0.217081</td>\n",
       "    </tr>\n",
       "    <tr>\n",
       "      <th>4</th>\n",
       "      <td>2023-08-05</td>\n",
       "      <td>Norwich</td>\n",
       "      <td>Hull</td>\n",
       "      <td>H</td>\n",
       "      <td>season23</td>\n",
       "      <td>1.75</td>\n",
       "      <td>3.5</td>\n",
       "      <td>5.00</td>\n",
       "      <td>1.82</td>\n",
       "      <td>1.77</td>\n",
       "      <td>3.75</td>\n",
       "      <td>3.65</td>\n",
       "      <td>5.00</td>\n",
       "      <td>4.65</td>\n",
       "      <td>H</td>\n",
       "      <td>0.547513</td>\n",
       "      <td>0.264961</td>\n",
       "      <td>0.187526</td>\n",
       "    </tr>\n",
       "    <tr>\n",
       "      <th>...</th>\n",
       "      <td>...</td>\n",
       "      <td>...</td>\n",
       "      <td>...</td>\n",
       "      <td>...</td>\n",
       "      <td>...</td>\n",
       "      <td>...</td>\n",
       "      <td>...</td>\n",
       "      <td>...</td>\n",
       "      <td>...</td>\n",
       "      <td>...</td>\n",
       "      <td>...</td>\n",
       "      <td>...</td>\n",
       "      <td>...</td>\n",
       "      <td>...</td>\n",
       "      <td>...</td>\n",
       "      <td>...</td>\n",
       "      <td>...</td>\n",
       "      <td>...</td>\n",
       "    </tr>\n",
       "    <tr>\n",
       "      <th>547</th>\n",
       "      <td>2024-05-04</td>\n",
       "      <td>Rotherham</td>\n",
       "      <td>Cardiff</td>\n",
       "      <td>H</td>\n",
       "      <td>season23</td>\n",
       "      <td>3.40</td>\n",
       "      <td>3.4</td>\n",
       "      <td>2.20</td>\n",
       "      <td>3.50</td>\n",
       "      <td>3.40</td>\n",
       "      <td>3.45</td>\n",
       "      <td>3.35</td>\n",
       "      <td>2.23</td>\n",
       "      <td>2.16</td>\n",
       "      <td>A</td>\n",
       "      <td>0.313730</td>\n",
       "      <td>0.243821</td>\n",
       "      <td>0.442449</td>\n",
       "    </tr>\n",
       "    <tr>\n",
       "      <th>548</th>\n",
       "      <td>2024-05-04</td>\n",
       "      <td>Stoke</td>\n",
       "      <td>Bristol City</td>\n",
       "      <td>H</td>\n",
       "      <td>season23</td>\n",
       "      <td>2.05</td>\n",
       "      <td>3.4</td>\n",
       "      <td>3.75</td>\n",
       "      <td>2.10</td>\n",
       "      <td>2.05</td>\n",
       "      <td>3.70</td>\n",
       "      <td>3.52</td>\n",
       "      <td>3.75</td>\n",
       "      <td>3.51</td>\n",
       "      <td>H</td>\n",
       "      <td>0.430321</td>\n",
       "      <td>0.281037</td>\n",
       "      <td>0.288642</td>\n",
       "    </tr>\n",
       "    <tr>\n",
       "      <th>549</th>\n",
       "      <td>2024-05-04</td>\n",
       "      <td>Sunderland</td>\n",
       "      <td>Sheffield Weds</td>\n",
       "      <td>A</td>\n",
       "      <td>season23</td>\n",
       "      <td>2.70</td>\n",
       "      <td>3.4</td>\n",
       "      <td>2.55</td>\n",
       "      <td>2.87</td>\n",
       "      <td>2.73</td>\n",
       "      <td>3.40</td>\n",
       "      <td>3.25</td>\n",
       "      <td>2.80</td>\n",
       "      <td>2.62</td>\n",
       "      <td>D</td>\n",
       "      <td>0.299973</td>\n",
       "      <td>0.352832</td>\n",
       "      <td>0.347195</td>\n",
       "    </tr>\n",
       "    <tr>\n",
       "      <th>550</th>\n",
       "      <td>2024-05-04</td>\n",
       "      <td>Swansea</td>\n",
       "      <td>Millwall</td>\n",
       "      <td>A</td>\n",
       "      <td>season23</td>\n",
       "      <td>2.05</td>\n",
       "      <td>3.5</td>\n",
       "      <td>3.60</td>\n",
       "      <td>2.07</td>\n",
       "      <td>2.04</td>\n",
       "      <td>3.61</td>\n",
       "      <td>3.50</td>\n",
       "      <td>3.76</td>\n",
       "      <td>3.57</td>\n",
       "      <td>H</td>\n",
       "      <td>0.432750</td>\n",
       "      <td>0.287685</td>\n",
       "      <td>0.279565</td>\n",
       "    </tr>\n",
       "    <tr>\n",
       "      <th>551</th>\n",
       "      <td>2024-05-04</td>\n",
       "      <td>West Brom</td>\n",
       "      <td>Preston</td>\n",
       "      <td>H</td>\n",
       "      <td>season23</td>\n",
       "      <td>1.45</td>\n",
       "      <td>4.2</td>\n",
       "      <td>8.00</td>\n",
       "      <td>1.49</td>\n",
       "      <td>1.45</td>\n",
       "      <td>4.60</td>\n",
       "      <td>4.32</td>\n",
       "      <td>8.00</td>\n",
       "      <td>7.28</td>\n",
       "      <td>H</td>\n",
       "      <td>0.669224</td>\n",
       "      <td>0.206197</td>\n",
       "      <td>0.124579</td>\n",
       "    </tr>\n",
       "  </tbody>\n",
       "</table>\n",
       "<p>552 rows × 18 columns</p>\n",
       "</div>"
      ],
      "text/plain": [
       "          Date        HomeTeam        AwayTeam FTR    season  B365H  B365D  \\\n",
       "0   2023-08-04  Sheffield Weds     Southampton   A  season23   3.10    3.4   \n",
       "1   2023-08-05       Blackburn       West Brom   H  season23   2.75    3.3   \n",
       "2   2023-08-05    Bristol City         Preston   D  season23   2.05    3.5   \n",
       "3   2023-08-05   Middlesbrough        Millwall   A  season23   1.91    3.3   \n",
       "4   2023-08-05         Norwich            Hull   H  season23   1.75    3.5   \n",
       "..         ...             ...             ...  ..       ...    ...    ...   \n",
       "547 2024-05-04       Rotherham         Cardiff   H  season23   3.40    3.4   \n",
       "548 2024-05-04           Stoke    Bristol City   H  season23   2.05    3.4   \n",
       "549 2024-05-04      Sunderland  Sheffield Weds   A  season23   2.70    3.4   \n",
       "550 2024-05-04         Swansea        Millwall   A  season23   2.05    3.5   \n",
       "551 2024-05-04       West Brom         Preston   H  season23   1.45    4.2   \n",
       "\n",
       "     B365A  MaxH  AvgH  MaxD  AvgD  MaxA  AvgA predictions   proba_H  \\\n",
       "0     2.30  3.31  3.14  3.47  3.38  2.35  2.28           A  0.382851   \n",
       "1     2.60  2.92  2.78  3.30  3.21  2.72  2.62           H  0.370586   \n",
       "2     3.60  2.15  2.08  3.50  3.39  3.72  3.63           H  0.459704   \n",
       "3     4.33  2.05  1.95  3.60  3.47  4.33  3.97           H  0.466858   \n",
       "4     5.00  1.82  1.77  3.75  3.65  5.00  4.65           H  0.547513   \n",
       "..     ...   ...   ...   ...   ...   ...   ...         ...       ...   \n",
       "547   2.20  3.50  3.40  3.45  3.35  2.23  2.16           A  0.313730   \n",
       "548   3.75  2.10  2.05  3.70  3.52  3.75  3.51           H  0.430321   \n",
       "549   2.55  2.87  2.73  3.40  3.25  2.80  2.62           D  0.299973   \n",
       "550   3.60  2.07  2.04  3.61  3.50  3.76  3.57           H  0.432750   \n",
       "551   8.00  1.49  1.45  4.60  4.32  8.00  7.28           H  0.669224   \n",
       "\n",
       "      proba_D   proba_A  \n",
       "0    0.228971  0.388178  \n",
       "1    0.286758  0.342655  \n",
       "2    0.287815  0.252481  \n",
       "3    0.316061  0.217081  \n",
       "4    0.264961  0.187526  \n",
       "..        ...       ...  \n",
       "547  0.243821  0.442449  \n",
       "548  0.281037  0.288642  \n",
       "549  0.352832  0.347195  \n",
       "550  0.287685  0.279565  \n",
       "551  0.206197  0.124579  \n",
       "\n",
       "[552 rows x 18 columns]"
      ]
     },
     "execution_count": 8,
     "metadata": {},
     "output_type": "execute_result"
    }
   ],
   "source": [
    "myresults"
   ]
  },
  {
   "cell_type": "markdown",
   "id": "39101723-08c9-4519-ae3b-3bc0507c48a1",
   "metadata": {},
   "source": [
    "I will focus on comparing my probablities to bet365's for now. I will drop the other betting columns"
   ]
  },
  {
   "cell_type": "code",
   "execution_count": 9,
   "id": "32c5315d-579d-4f3a-94f7-58e434d70f23",
   "metadata": {},
   "outputs": [],
   "source": [
    "myresults.drop(columns=['MaxH', 'AvgH' , 'MaxD', 'AvgD', 'MaxA', 'AvgA'], inplace=True)"
   ]
  },
  {
   "cell_type": "markdown",
   "id": "9510124a-0717-4321-8254-bbd0a3d49c60",
   "metadata": {},
   "source": [
    "I will convert the bet365 columns into implied probability and then compare to my probabilities"
   ]
  },
  {
   "cell_type": "code",
   "execution_count": 10,
   "id": "c74e7f85-51c6-49d5-8b37-04f8d59fa33f",
   "metadata": {},
   "outputs": [],
   "source": [
    "myresults[['B365H_implied', 'B365D_implied', 'B365A_implied']]=1/myresults[['B365H', 'B365D', 'B365A']]"
   ]
  },
  {
   "cell_type": "code",
   "execution_count": 11,
   "id": "9af54e54-4498-4fa2-8138-d39d07641832",
   "metadata": {},
   "outputs": [],
   "source": [
    "myresults['B365_total_implied']=myresults[['B365H_implied', 'B365D_implied', 'B365A_implied']].sum(axis=1)"
   ]
  },
  {
   "cell_type": "code",
   "execution_count": 13,
   "id": "791cee2f-abdf-431f-9dfd-cc0615522aa3",
   "metadata": {},
   "outputs": [
    {
     "data": {
      "text/plain": [
       "1.0537161790794443"
      ]
     },
     "execution_count": 13,
     "metadata": {},
     "output_type": "execute_result"
    }
   ],
   "source": [
    "myresults['B365_total_implied'].mean()"
   ]
  },
  {
   "cell_type": "code",
   "execution_count": 14,
   "id": "1f03b684-c8bd-4b97-9bb9-91fc2bf2b35f",
   "metadata": {},
   "outputs": [],
   "source": [
    "# Define a mapping from column names to results\n",
    "column_to_result = {\n",
    "    'B365H_implied': 'H',\n",
    "    'B365D_implied': 'D',\n",
    "    'B365A_implied': 'A'\n",
    "}\n",
    "\n",
    "# Find the column with the maximum value and map it to 'H', 'D', or 'A'\n",
    "myresults['B365_prediction'] = myresults[['B365H_implied', 'B365D_implied', 'B365A_implied']].idxmax(axis=1).map(column_to_result)"
   ]
  },
  {
   "cell_type": "code",
   "execution_count": 17,
   "id": "51a8fe1f-48ea-4abd-9869-9c59faa1dee8",
   "metadata": {},
   "outputs": [],
   "source": [
    "# Create the 'betWinnings' column\n",
    "myresults['betWinnings'] = np.where(\n",
    "    myresults['predictions'] == myresults['FTR'],  # Check if the prediction matches the actual result\n",
    "    myresults.apply(\n",
    "        lambda row: 10 * row[f\"B365{row['FTR']}\"], axis=1  # Multiply by the corresponding odds column\n",
    "    ),\n",
    "    0  # If prediction is incorrect, winnings are 0\n",
    ")"
   ]
  },
  {
   "cell_type": "code",
   "execution_count": 19,
   "id": "1e10ec9c-87b3-42e3-a5e6-4a53fb6c2df7",
   "metadata": {},
   "outputs": [
    {
     "data": {
      "image/png": "[encoded data removed]",
      "text/plain": [
       "<Figure size 1000x600 with 1 Axes>"
      ]
     },
     "metadata": {},
     "output_type": "display_data"
    }
   ],
   "source": [
    "grouped = (\n",
    "    myresults.groupby(['season', myresults['Date'].dt.month.rename('Month')])['betWinnings']\n",
    "    .mean()\n",
    "    .reset_index(name='AverageBetWinnings')\n",
    ")\n",
    "\n",
    "\n",
    "\n",
    "# Step 2: Plot\n",
    "plt.figure(figsize=(10, 6))\n",
    "sns.lineplot(data=grouped, x='Month', y='AverageBetWinnings', hue='season', marker='o')\n",
    "\n",
    "# Customizing the plot\n",
    "plt.title('Average Bet Winnings Per Match (by Season)')\n",
    "plt.xlabel('Month')\n",
    "plt.ylabel('Average Bet Winnings')\n",
    "plt.xticks(range(1, 13), \n",
    "           ['Jan', 'Feb', 'Mar', 'Apr', 'May', 'Jun', 'Jul', 'Aug', 'Sep', 'Oct', 'Nov', 'Dec'])\n",
    "plt.legend(title='Season')\n",
    "plt.grid()\n",
    "\n",
    "plt.show()"
   ]
  },
  {
   "cell_type": "code",
   "execution_count": 20,
   "id": "b3a1f640-e3fe-4c3b-9489-4617e950931c",
   "metadata": {},
   "outputs": [
    {
     "data": {
      "text/plain": [
       "Date\n",
       "2023-08    10.029167\n",
       "2023-09     9.067797\n",
       "2023-10    13.330000\n",
       "2023-11     8.724490\n",
       "2023-12     9.690476\n",
       "2024-01     7.562791\n",
       "2024-02     9.187500\n",
       "2024-03    11.684483\n",
       "2024-04     7.412000\n",
       "2024-05     7.358333\n",
       "Freq: M, Name: betWinnings, dtype: float64"
      ]
     },
     "execution_count": 20,
     "metadata": {},
     "output_type": "execute_result"
    }
   ],
   "source": [
    "myresults.groupby(myresults['Date'].dt.to_period('M'))['betWinnings'].mean()"
   ]
  },
  {
   "cell_type": "code",
   "execution_count": 21,
   "id": "aaa41a32-2fd8-446a-ac5a-ef4409932f03",
   "metadata": {},
   "outputs": [
    {
     "data": {
      "text/plain": [
       "5292.8"
      ]
     },
     "execution_count": 21,
     "metadata": {},
     "output_type": "execute_result"
    }
   ],
   "source": [
    "myresults['betWinnings'].sum()"
   ]
  },
  {
   "cell_type": "code",
   "execution_count": 25,
   "id": "f2e72e5e-10fb-459f-a339-82ac873cd6ef",
   "metadata": {},
   "outputs": [
    {
     "data": {
      "text/plain": [
       "513.5"
      ]
     },
     "execution_count": 25,
     "metadata": {},
     "output_type": "execute_result"
    }
   ],
   "source": [
    "myresults[\n",
    "    ((myresults['predictions'] == 'H') & (myresults['B365_prediction'] == 'A')) |\n",
    "    ((myresults['predictions'] == 'A') & (myresults['B365_prediction'] == 'H'))\n",
    "]['betWinnings'].sum()"
   ]
  },
  {
   "cell_type": "code",
   "execution_count": 26,
   "id": "7dce8cf6-e87b-49d5-9cb6-aaf8a8a45e23",
   "metadata": {},
   "outputs": [
    {
     "data": {
      "text/plain": [
       "44"
      ]
     },
     "execution_count": 26,
     "metadata": {},
     "output_type": "execute_result"
    }
   ],
   "source": [
    "len(myresults[\n",
    "    ((myresults['predictions'] == 'H') & (myresults['B365_prediction'] == 'A')) |\n",
    "    ((myresults['predictions'] == 'A') & (myresults['B365_prediction'] == 'H'))\n",
    "]['betWinnings'])"
   ]
  },
  {
   "cell_type": "code",
   "execution_count": 27,
   "id": "bb19cfb2-d4a3-4b96-a4f3-3be0466c5a18",
   "metadata": {},
   "outputs": [
    {
     "data": {
      "text/plain": [
       "137.5"
      ]
     },
     "execution_count": 27,
     "metadata": {},
     "output_type": "execute_result"
    }
   ],
   "source": [
    "myresults[\n",
    "    ((myresults['predictions'] == 'D')  |(myresults['B365_prediction'] == 'D'))\n",
    "]['betWinnings'].sum()"
   ]
  },
  {
   "cell_type": "code",
   "execution_count": 28,
   "id": "47129d46-66c8-4c4b-8bbe-047194403270",
   "metadata": {},
   "outputs": [
    {
     "data": {
      "text/plain": [
       "10"
      ]
     },
     "execution_count": 28,
     "metadata": {},
     "output_type": "execute_result"
    }
   ],
   "source": [
    "len(myresults[\n",
    "    ((myresults['predictions'] == 'D')  |(myresults['B365_prediction'] == 'D'))\n",
    "]['betWinnings'])"
   ]
  },
  {
   "cell_type": "markdown",
   "id": "0231b891-cfff-48c6-8bce-c0aa9a3d5e5d",
   "metadata": {},
   "source": [
    "Should I bet on a draw when my odds differ with bet365?"
   ]
  },
  {
   "cell_type": "code",
   "execution_count": 30,
   "id": "1ea95fa8-b89a-4e31-8796-5eb0279dfbeb",
   "metadata": {},
   "outputs": [],
   "source": [
    "# Create the 'betWinningsDraw' column\n",
    "myresults['betWinningsDraw'] = np.where(\n",
    "    'D' == myresults['FTR'],  # Check if the prediction matches the actual result\n",
    "    myresults.apply(\n",
    "        lambda row: 10 * row[f\"B365{row['FTR']}\"], axis=1  # Multiply by the corresponding odds column\n",
    "    ),\n",
    "    0  # If prediction is incorrect, winnings are 0\n",
    ")"
   ]
  },
  {
   "cell_type": "code",
   "execution_count": 33,
   "id": "a7a3eedc-cc8d-44ce-aa8d-32f6b8724e37",
   "metadata": {},
   "outputs": [
    {
     "data": {
      "text/plain": [
       "44"
      ]
     },
     "execution_count": 33,
     "metadata": {},
     "output_type": "execute_result"
    }
   ],
   "source": [
    "len(myresults[\n",
    "    ((myresults['predictions'] == 'H') & (myresults['B365_prediction'] == 'A')) |\n",
    "    ((myresults['predictions'] == 'A') & (myresults['B365_prediction'] == 'H'))\n",
    "])"
   ]
  },
  {
   "cell_type": "code",
   "execution_count": 32,
   "id": "a3ec3a36-b523-4ff8-9683-6d650e42279e",
   "metadata": {},
   "outputs": [
    {
     "data": {
      "text/plain": [
       "396.5"
      ]
     },
     "execution_count": 32,
     "metadata": {},
     "output_type": "execute_result"
    }
   ],
   "source": [
    "myresults[\n",
    "    ((myresults['predictions'] == 'H') & (myresults['B365_prediction'] == 'A')) |\n",
    "    ((myresults['predictions'] == 'A') & (myresults['B365_prediction'] == 'H'))\n",
    "]['betWinningsDraw'].sum()"
   ]
  },
  {
   "cell_type": "code",
   "execution_count": 34,
   "id": "aedb5b95-1c1f-49fe-85ea-7b424b5f8a99",
   "metadata": {},
   "outputs": [],
   "source": [
    "# Create the 'betWinnings' column\n",
    "myresults['betWinningsBet365'] = np.where(\n",
    "    myresults['B365_prediction'] == myresults['FTR'],  # Check if the prediction matches the actual result\n",
    "    myresults.apply(\n",
    "        lambda row: 10 * row[f\"B365{row['FTR']}\"], axis=1  # Multiply by the corresponding odds column\n",
    "    ),\n",
    "    0  # If prediction is incorrect, winnings are 0\n",
    ")"
   ]
  },
  {
   "cell_type": "code",
   "execution_count": 35,
   "id": "69385f96-21c0-4323-a7c1-8aba4a84092e",
   "metadata": {},
   "outputs": [
    {
     "data": {
      "text/plain": [
       "333.8"
      ]
     },
     "execution_count": 35,
     "metadata": {},
     "output_type": "execute_result"
    }
   ],
   "source": [
    "myresults[\n",
    "    ((myresults['predictions'] == 'H') & (myresults['B365_prediction'] == 'A')) |\n",
    "    ((myresults['predictions'] == 'A') & (myresults['B365_prediction'] == 'H'))\n",
    "]['betWinningsBet365'].sum()"
   ]
  },
  {
   "cell_type": "code",
   "execution_count": 36,
   "id": "20c9137d-7fdd-4013-b402-ed484ab9f3e5",
   "metadata": {},
   "outputs": [
    {
     "data": {
      "text/plain": [
       "15      0.0\n",
       "34     33.0\n",
       "76      0.0\n",
       "90     34.0\n",
       "122    33.0\n",
       "134     0.0\n",
       "203     0.0\n",
       "278    37.5\n",
       "444     0.0\n",
       "549     0.0\n",
       "Name: betWinnings, dtype: float64"
      ]
     },
     "execution_count": 36,
     "metadata": {},
     "output_type": "execute_result"
    }
   ],
   "source": [
    "myresults[myresults['predictions']=='D']['betWinnings']"
   ]
  },
  {
   "cell_type": "code",
   "execution_count": 37,
   "id": "2e0443a6-425b-4773-8fd7-84e627d12b3f",
   "metadata": {},
   "outputs": [
    {
     "data": {
      "text/plain": [
       "54"
      ]
     },
     "execution_count": 37,
     "metadata": {},
     "output_type": "execute_result"
    }
   ],
   "source": [
    "len(myresults[myresults['predictions']!=myresults['B365_prediction']])"
   ]
  },
  {
   "cell_type": "code",
   "execution_count": 38,
   "id": "3e71902d-e819-4c57-83f4-c776e76e85bb",
   "metadata": {},
   "outputs": [
    {
     "data": {
      "text/plain": [
       "651.0"
      ]
     },
     "execution_count": 38,
     "metadata": {},
     "output_type": "execute_result"
    }
   ],
   "source": [
    "\n",
    "myresults[myresults['predictions']!=myresults['B365_prediction']]['betWinnings'].sum()"
   ]
  },
  {
   "cell_type": "code",
   "execution_count": 39,
   "id": "8ce3ab1d-4943-418e-99a2-2ddbe8674d40",
   "metadata": {},
   "outputs": [
    {
     "data": {
      "text/plain": [
       "predictions\n",
       "H    76\n",
       "A    55\n",
       "Name: count, dtype: int64"
      ]
     },
     "execution_count": 39,
     "metadata": {},
     "output_type": "execute_result"
    }
   ],
   "source": [
    "myresults[myresults['proba_H']>myresults['B365H_implied']]['predictions'].value_counts()"
   ]
  },
  {
   "cell_type": "code",
   "execution_count": 42,
   "id": "4f4fcb75-3de5-4df8-953d-91684ab2c199",
   "metadata": {},
   "outputs": [
    {
     "data": {
      "text/plain": [
       "predictions\n",
       "H    103\n",
       "A     88\n",
       "D      1\n",
       "Name: count, dtype: int64"
      ]
     },
     "execution_count": 42,
     "metadata": {},
     "output_type": "execute_result"
    }
   ],
   "source": [
    "myresults[myresults['proba_A']>myresults['B365A_implied']]['predictions'].value_counts()"
   ]
  },
  {
   "cell_type": "code",
   "execution_count": 40,
   "id": "065f792a-bf33-46a6-a951-2413614c8f78",
   "metadata": {},
   "outputs": [],
   "source": [
    "myHomeBets=myresults[myresults['proba_H']>1.2*myresults['B365H_implied']]"
   ]
  },
  {
   "cell_type": "code",
   "execution_count": 41,
   "id": "8ec61658-501d-48e9-b08f-b8f2e8582b66",
   "metadata": {},
   "outputs": [],
   "source": [
    "myHomeBets=myHomeBets.copy()"
   ]
  },
  {
   "cell_type": "code",
   "execution_count": 43,
   "id": "bf50d03b-1a5f-4045-8c6a-815a03fee041",
   "metadata": {},
   "outputs": [],
   "source": [
    "myHomeBets['B365H_multiplied'] = np.where(myHomeBets['FTR'] == 'H', myHomeBets['B365H'] * 10, np.nan)"
   ]
  },
  {
   "cell_type": "code",
   "execution_count": 44,
   "id": "0c8988d6-51c1-4ce8-bbd7-031c71ad44fb",
   "metadata": {},
   "outputs": [
    {
     "data": {
      "text/plain": [
       "230.0"
      ]
     },
     "execution_count": 44,
     "metadata": {},
     "output_type": "execute_result"
    }
   ],
   "source": [
    "myHomeBets['B365H_multiplied'].sum()"
   ]
  },
  {
   "cell_type": "code",
   "execution_count": 46,
   "id": "8f045f31-9f76-4ec4-add2-90c6ca8c6853",
   "metadata": {},
   "outputs": [
    {
     "data": {
      "text/plain": [
       "23"
      ]
     },
     "execution_count": 46,
     "metadata": {},
     "output_type": "execute_result"
    }
   ],
   "source": [
    "len(myHomeBets)"
   ]
  },
  {
   "cell_type": "code",
   "execution_count": 47,
   "id": "ccff7a6a-8c37-46d9-8744-a442ee01c6e9",
   "metadata": {},
   "outputs": [],
   "source": [
    "\n",
    "myAwayBets=myresults[myresults['proba_A']>1.1*myresults['B365A_implied']]"
   ]
  },
  {
   "cell_type": "code",
   "execution_count": 48,
   "id": "01005ab1-0cb8-4ca1-98e8-bb192c0d4991",
   "metadata": {},
   "outputs": [],
   "source": [
    "myAwayBets=myAwayBets.copy()"
   ]
  },
  {
   "cell_type": "code",
   "execution_count": 49,
   "id": "7fbc7abb-1443-41e5-84ab-1e6a4b21eab8",
   "metadata": {},
   "outputs": [
    {
     "data": {
      "text/plain": [
       "78"
      ]
     },
     "execution_count": 49,
     "metadata": {},
     "output_type": "execute_result"
    }
   ],
   "source": [
    "len(myAwayBets)"
   ]
  },
  {
   "cell_type": "code",
   "execution_count": 50,
   "id": "12e74f0e-98e4-4cdd-b00f-1ce903adb04c",
   "metadata": {},
   "outputs": [],
   "source": [
    "myAwayBets['B365A_multiplied'] = np.where(myAwayBets['FTR'] == 'A', myAwayBets['B365A'] * 10, np.nan)"
   ]
  },
  {
   "cell_type": "code",
   "execution_count": 51,
   "id": "b75f3947-0eba-4248-92fe-4b98a6b9dad1",
   "metadata": {},
   "outputs": [
    {
     "data": {
      "text/plain": [
       "747.7"
      ]
     },
     "execution_count": 51,
     "metadata": {},
     "output_type": "execute_result"
    }
   ],
   "source": [
    "myAwayBets['B365A_multiplied'].sum()"
   ]
  },
  {
   "cell_type": "markdown",
   "id": "f84d5ea8-8194-4922-a734-6438151061c1",
   "metadata": {},
   "source": [
    "### Checking if i should bet when i predict a 10% more likely outcome"
   ]
  },
  {
   "cell_type": "code",
   "execution_count": null,
   "id": "8cce87bb-2419-4e63-8d01-985cb7a111b1",
   "metadata": {},
   "outputs": [],
   "source": []
  }
 ],
 "metadata": {
  "kernelspec": {
   "display_name": "Python 3 (ipykernel)",
   "language": "python",
   "name": "python3"
  },
  "language_info": {
   "codemirror_mode": {
    "name": "ipython",
    "version": 3
   },
   "file_extension": ".py",
   "mimetype": "text/x-python",
   "name": "python",
   "nbconvert_exporter": "python",
   "pygments_lexer": "ipython3",
   "version": "3.10.12"
  }
 },
 "nbformat": 4,
 "nbformat_minor": 5
}
